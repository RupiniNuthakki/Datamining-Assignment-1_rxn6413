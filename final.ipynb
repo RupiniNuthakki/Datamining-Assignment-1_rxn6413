{
 "cells": [
  {
   "cell_type": "code",
   "execution_count": 1,
   "id": "8852b861",
   "metadata": {
    "scrolled": true
   },
   "outputs": [],
   "source": [
    "import os\n",
    "import cv2\n",
    "import csv\n",
    "import matplotlib.pyplot as plt\n",
    "import numpy as np\n",
    "import pandas as pd\n",
    "import tensorflow as tf\n",
    "from tensorflow.keras.preprocessing.image import ImageDataGenerator\n",
    "import seaborn as sns\n",
    "from pathlib import Path\n",
    "import glob\n",
    "import scipy\n",
    "tf.random.set_seed(23)\n"
   ]
  },
  {
   "cell_type": "code",
   "execution_count": 2,
   "id": "53e0fcd8",
   "metadata": {},
   "outputs": [],
   "source": [
    "from sklearn.model_selection import train_test_split\n",
    "from sklearn.metrics import accuracy_score,confusion_matrix\n",
    "from sklearn.preprocessing import LabelEncoder\n",
    "\n",
    "from tensorflow.keras.preprocessing.image import ImageDataGenerator,load_img,img_to_array\n",
    "\n",
    "from tensorflow.keras.models import Model,Sequential\n",
    "from tensorflow.keras.layers import Dense,Input,BatchNormalization\n",
    "from tensorflow.keras.optimizers import Adam\n",
    "from tensorflow.keras.utils import to_categorical\n",
    "\n",
    "import tensorflow as tf\n",
    "from tensorflow.keras.layers import Flatten,Activation,Dropout,Dense\n",
    "from tensorflow.keras.layers import Conv2D, MaxPooling2D"
   ]
  },
  {
   "cell_type": "code",
   "execution_count": 3,
   "id": "b9eea4ff",
   "metadata": {},
   "outputs": [
    {
     "name": "stdout",
     "output_type": "stream",
     "text": [
      "['train', 'validation']\n",
      "Train Classes - ['angry', 'disgust', 'fear', 'happy', 'neutral', 'sad', 'surprise']\n",
      "Validation Classes - ['angry', 'disgust', 'fear', 'happy', 'neutral', 'sad', 'surprise']\n"
     ]
    }
   ],
   "source": [
    "data_dir = 'C:/Users/rupin/OneDrive/Desktop/Data mining/Assignment-1/images'\n",
    "print(os.listdir(data_dir))\n",
    "train = os.listdir(data_dir + \"/train/\")\n",
    "valid = os.listdir(data_dir + \"/validation/\")\n",
    "print(f'Train Classes - {train}')\n",
    "print(f'Validation Classes - {valid}')"
   ]
  },
  {
   "cell_type": "code",
   "execution_count": 4,
   "id": "82327787",
   "metadata": {},
   "outputs": [],
   "source": [
    "train_dir='C:/Users/rupin/OneDrive/Desktop/Data mining/Assignment-1/images/train/'\n",
    "test_dir='C:/Users/rupin/OneDrive/Desktop/Data mining/Assignment-1/images/validation'"
   ]
  },
  {
   "cell_type": "code",
   "execution_count": 5,
   "id": "8c7a4a29",
   "metadata": {},
   "outputs": [
    {
     "name": "stdout",
     "output_type": "stream",
     "text": [
      "Found 28821 images belonging to 7 classes.\n",
      "Found 7066 images belonging to 7 classes.\n"
     ]
    }
   ],
   "source": [
    "train_datagen = ImageDataGenerator(rescale=1./255,validation_split=0.2)\n",
    "train_set = train_datagen.flow_from_directory(\n",
    "    train_dir,\n",
    "    target_size=(48, 48),\n",
    "    batch_size=128,\n",
    "    color_mode='grayscale',\n",
    "    class_mode='categorical',\n",
    "    shuffle='true')\n",
    "\n",
    "test_datagen = ImageDataGenerator(rescale=1./255)\n",
    "test_set = test_datagen.flow_from_directory(\n",
    "    test_dir,\n",
    "    target_size=(48, 48),\n",
    "    batch_size=128,\n",
    "    color_mode='grayscale',\n",
    "    class_mode='categorical',\n",
    "    shuffle='false'\n",
    "    )"
   ]
  },
  {
   "cell_type": "code",
   "execution_count": 16,
   "id": "f146dd5a",
   "metadata": {},
   "outputs": [],
   "source": [
    "no_of_classes=7\n",
    "model=Sequential()\n",
    "\n",
    "#adding first cnn layer\n",
    "model.add(Conv2D(32,(3,3),padding='same',input_shape=(48,48,1)))\n",
    "model.add(BatchNormalization())\n",
    "model.add(Activation('relu'))\n",
    "model.add(Dropout(0.25))\n",
    "\n",
    "#adding second cnn layer\n",
    "model.add(Conv2D(64,(3,3),padding='same'))\n",
    "model.add(BatchNormalization())\n",
    "model.add(Activation('relu'))\n",
    "model.add(MaxPooling2D(pool_size=(2,2)))\n",
    "model.add(Dropout(0.25))\n",
    "\n",
    "#adding third cnn layer\n",
    "model.add(Conv2D(128,(3,3),padding='same'))\n",
    "model.add(BatchNormalization())\n",
    "model.add(Activation('relu'))\n",
    "model.add(MaxPooling2D(pool_size=(2,2)))\n",
    "model.add(Dropout(0.25))\n",
    "\n",
    "#adding fourth cnn layer\n",
    "model.add(Conv2D(256,(3,3),padding='same'))\n",
    "model.add(BatchNormalization())\n",
    "model.add(Activation('relu'))\n",
    "model.add(MaxPooling2D(pool_size=(2,2)))\n",
    "model.add(Dropout(0.20))\n",
    "\n",
    "\n",
    "\n",
    "\n",
    "model.add(Flatten())\n",
    "\n",
    "model.add(Dense(256))\n",
    "model.add(BatchNormalization())\n",
    "model.add(Activation('relu'))\n",
    "model.add(Dropout(0.25))\n",
    "\n",
    "model.add(Dense(512))\n",
    "model.add(BatchNormalization())\n",
    "model.add(Activation('relu'))\n",
    "model.add(Dropout(0.25))\n",
    "\n"
   ]
  },
  {
   "cell_type": "code",
   "execution_count": 23,
   "id": "64f74d1d",
   "metadata": {},
   "outputs": [
    {
     "name": "stderr",
     "output_type": "stream",
     "text": [
      "WARNING:absl:`lr` is deprecated, please use `learning_rate` instead, or use the legacy optimizer, e.g.,tf.keras.optimizers.legacy.Adam.\n"
     ]
    },
    {
     "name": "stdout",
     "output_type": "stream",
     "text": [
      "Model: \"sequential_5\"\n",
      "_________________________________________________________________\n",
      " Layer (type)                Output Shape              Param #   \n",
      "=================================================================\n",
      " conv2d_16 (Conv2D)          (None, 48, 48, 32)        320       \n",
      "                                                                 \n",
      " batch_normalization_26 (Bat  (None, 48, 48, 32)       128       \n",
      " chNormalization)                                                \n",
      "                                                                 \n",
      " activation_26 (Activation)  (None, 48, 48, 32)        0         \n",
      "                                                                 \n",
      " dropout_26 (Dropout)        (None, 48, 48, 32)        0         \n",
      "                                                                 \n",
      " conv2d_17 (Conv2D)          (None, 48, 48, 64)        18496     \n",
      "                                                                 \n",
      " batch_normalization_27 (Bat  (None, 48, 48, 64)       256       \n",
      " chNormalization)                                                \n",
      "                                                                 \n",
      " activation_27 (Activation)  (None, 48, 48, 64)        0         \n",
      "                                                                 \n",
      " max_pooling2d_13 (MaxPoolin  (None, 24, 24, 64)       0         \n",
      " g2D)                                                            \n",
      "                                                                 \n",
      " dropout_27 (Dropout)        (None, 24, 24, 64)        0         \n",
      "                                                                 \n",
      " conv2d_18 (Conv2D)          (None, 24, 24, 128)       73856     \n",
      "                                                                 \n",
      " batch_normalization_28 (Bat  (None, 24, 24, 128)      512       \n",
      " chNormalization)                                                \n",
      "                                                                 \n",
      " activation_28 (Activation)  (None, 24, 24, 128)       0         \n",
      "                                                                 \n",
      " max_pooling2d_14 (MaxPoolin  (None, 12, 12, 128)      0         \n",
      " g2D)                                                            \n",
      "                                                                 \n",
      " dropout_28 (Dropout)        (None, 12, 12, 128)       0         \n",
      "                                                                 \n",
      " conv2d_19 (Conv2D)          (None, 12, 12, 256)       295168    \n",
      "                                                                 \n",
      " batch_normalization_29 (Bat  (None, 12, 12, 256)      1024      \n",
      " chNormalization)                                                \n",
      "                                                                 \n",
      " activation_29 (Activation)  (None, 12, 12, 256)       0         \n",
      "                                                                 \n",
      " max_pooling2d_15 (MaxPoolin  (None, 6, 6, 256)        0         \n",
      " g2D)                                                            \n",
      "                                                                 \n",
      " dropout_29 (Dropout)        (None, 6, 6, 256)         0         \n",
      "                                                                 \n",
      " flatten_5 (Flatten)         (None, 9216)              0         \n",
      "                                                                 \n",
      " dense_15 (Dense)            (None, 256)               2359552   \n",
      "                                                                 \n",
      " batch_normalization_30 (Bat  (None, 256)              1024      \n",
      " chNormalization)                                                \n",
      "                                                                 \n",
      " activation_30 (Activation)  (None, 256)               0         \n",
      "                                                                 \n",
      " dropout_30 (Dropout)        (None, 256)               0         \n",
      "                                                                 \n",
      " dense_16 (Dense)            (None, 512)               131584    \n",
      "                                                                 \n",
      " batch_normalization_31 (Bat  (None, 512)              2048      \n",
      " chNormalization)                                                \n",
      "                                                                 \n",
      " activation_31 (Activation)  (None, 512)               0         \n",
      "                                                                 \n",
      " dropout_31 (Dropout)        (None, 512)               0         \n",
      "                                                                 \n",
      " dense_17 (Dense)            (None, 7)                 3591      \n",
      "                                                                 \n",
      " dense_18 (Dense)            (None, 7)                 56        \n",
      "                                                                 \n",
      "=================================================================\n",
      "Total params: 2,887,615\n",
      "Trainable params: 2,885,119\n",
      "Non-trainable params: 2,496\n",
      "_________________________________________________________________\n"
     ]
    }
   ],
   "source": [
    "model.add(Dense(no_of_classes, activation='softmax'))\n",
    "\n",
    "opt=Adam(lr=0.001)\n",
    "model.compile(optimizer=opt,loss='categorical_crossentropy',metrics=['accuracy'])\n",
    "model.summary()\n",
    "\n"
   ]
  },
  {
   "cell_type": "code",
   "execution_count": 24,
   "id": "2f3d3fea",
   "metadata": {},
   "outputs": [],
   "source": [
    "#Fit the model\n",
    "\n",
    "from tensorflow.keras.callbacks import ModelCheckpoint,EarlyStopping,ReduceLROnPlateau\n",
    "\n",
    "checkpoint=ModelCheckpoint(\"./model.h5\",monitor='val_acc',verbose=1,save_best_only=True)\n",
    "\n",
    "early_stopping=EarlyStopping(monitor='val_loss',min_delta=0,patience=3,verbose=1,restore_best_weights=True)\n",
    "\n",
    "reduce_learningrate=ReduceLROnPlateau(monitor='val_loss',factor=0.2,patience=3,verbose=1,min_delta=0.0001)\n",
    "callbacks_list=[early_stopping,checkpoint,reduce_learningrate]\n",
    "\n",
    "model.compile(loss='categorical_crossentropy',optimizer=Adam(learning_rate=0.01),metrics=['accuracy'])"
   ]
  },
  {
   "cell_type": "code",
   "execution_count": 25,
   "id": "24361095",
   "metadata": {},
   "outputs": [
    {
     "name": "stderr",
     "output_type": "stream",
     "text": [
      "C:\\Users\\rupin\\AppData\\Local\\Temp\\ipykernel_3440\\901953066.py:1: UserWarning: `Model.fit_generator` is deprecated and will be removed in a future version. Please use `Model.fit`, which supports generators.\n",
      "  history = model.fit_generator(generator=train_set,\n"
     ]
    },
    {
     "name": "stdout",
     "output_type": "stream",
     "text": [
      "Epoch 1/38\n",
      "225/225 [==============================] - ETA: 0s - loss: 1.6139 - accuracy: 0.3771WARNING:tensorflow:Can save best model only with val_acc available, skipping.\n"
     ]
    },
    {
     "name": "stderr",
     "output_type": "stream",
     "text": [
      "WARNING:tensorflow:Can save best model only with val_acc available, skipping.\n"
     ]
    },
    {
     "name": "stdout",
     "output_type": "stream",
     "text": [
      "225/225 [==============================] - 373s 2s/step - loss: 1.6139 - accuracy: 0.3771 - val_loss: 1.6330 - val_accuracy: 0.3389 - lr: 0.0100\n",
      "Epoch 2/38\n",
      "225/225 [==============================] - ETA: 0s - loss: 1.4188 - accuracy: 0.4677WARNING:tensorflow:Can save best model only with val_acc available, skipping.\n"
     ]
    },
    {
     "name": "stderr",
     "output_type": "stream",
     "text": [
      "WARNING:tensorflow:Can save best model only with val_acc available, skipping.\n"
     ]
    },
    {
     "name": "stdout",
     "output_type": "stream",
     "text": [
      "225/225 [==============================] - 306s 1s/step - loss: 1.4188 - accuracy: 0.4677 - val_loss: 1.5297 - val_accuracy: 0.4175 - lr: 0.0100\n",
      "Epoch 3/38\n",
      "225/225 [==============================] - ETA: 0s - loss: 1.3102 - accuracy: 0.5149WARNING:tensorflow:Can save best model only with val_acc available, skipping.\n"
     ]
    },
    {
     "name": "stderr",
     "output_type": "stream",
     "text": [
      "WARNING:tensorflow:Can save best model only with val_acc available, skipping.\n"
     ]
    },
    {
     "name": "stdout",
     "output_type": "stream",
     "text": [
      "225/225 [==============================] - 306s 1s/step - loss: 1.3102 - accuracy: 0.5149 - val_loss: 1.4906 - val_accuracy: 0.4534 - lr: 0.0100\n",
      "Epoch 4/38\n",
      "225/225 [==============================] - ETA: 0s - loss: 1.2341 - accuracy: 0.5452WARNING:tensorflow:Can save best model only with val_acc available, skipping.\n"
     ]
    },
    {
     "name": "stderr",
     "output_type": "stream",
     "text": [
      "WARNING:tensorflow:Can save best model only with val_acc available, skipping.\n"
     ]
    },
    {
     "name": "stdout",
     "output_type": "stream",
     "text": [
      "225/225 [==============================] - 314s 1s/step - loss: 1.2341 - accuracy: 0.5452 - val_loss: 1.4521 - val_accuracy: 0.4734 - lr: 0.0100\n",
      "Epoch 5/38\n",
      "225/225 [==============================] - ETA: 0s - loss: 1.1762 - accuracy: 0.5693WARNING:tensorflow:Can save best model only with val_acc available, skipping.\n"
     ]
    },
    {
     "name": "stderr",
     "output_type": "stream",
     "text": [
      "WARNING:tensorflow:Can save best model only with val_acc available, skipping.\n"
     ]
    },
    {
     "name": "stdout",
     "output_type": "stream",
     "text": [
      "225/225 [==============================] - 378s 2s/step - loss: 1.1762 - accuracy: 0.5693 - val_loss: 1.2784 - val_accuracy: 0.5378 - lr: 0.0100\n",
      "Epoch 6/38\n",
      "225/225 [==============================] - ETA: 0s - loss: 1.1156 - accuracy: 0.5955WARNING:tensorflow:Can save best model only with val_acc available, skipping.\n"
     ]
    },
    {
     "name": "stderr",
     "output_type": "stream",
     "text": [
      "WARNING:tensorflow:Can save best model only with val_acc available, skipping.\n"
     ]
    },
    {
     "name": "stdout",
     "output_type": "stream",
     "text": [
      "225/225 [==============================] - 369s 2s/step - loss: 1.1156 - accuracy: 0.5955 - val_loss: 1.2876 - val_accuracy: 0.5312 - lr: 0.0100\n",
      "Epoch 7/38\n",
      "225/225 [==============================] - ETA: 0s - loss: 1.0628 - accuracy: 0.6180WARNING:tensorflow:Can save best model only with val_acc available, skipping.\n"
     ]
    },
    {
     "name": "stderr",
     "output_type": "stream",
     "text": [
      "WARNING:tensorflow:Can save best model only with val_acc available, skipping.\n"
     ]
    },
    {
     "name": "stdout",
     "output_type": "stream",
     "text": [
      "225/225 [==============================] - 343s 2s/step - loss: 1.0628 - accuracy: 0.6180 - val_loss: 1.1774 - val_accuracy: 0.5759 - lr: 0.0100\n",
      "Epoch 8/38\n",
      "225/225 [==============================] - ETA: 0s - loss: 1.0042 - accuracy: 0.6429WARNING:tensorflow:Can save best model only with val_acc available, skipping.\n"
     ]
    },
    {
     "name": "stderr",
     "output_type": "stream",
     "text": [
      "WARNING:tensorflow:Can save best model only with val_acc available, skipping.\n"
     ]
    },
    {
     "name": "stdout",
     "output_type": "stream",
     "text": [
      "225/225 [==============================] - 341s 2s/step - loss: 1.0042 - accuracy: 0.6429 - val_loss: 1.2110 - val_accuracy: 0.5702 - lr: 0.0100\n",
      "Epoch 9/38\n",
      "225/225 [==============================] - ETA: 0s - loss: 0.9599 - accuracy: 0.6594WARNING:tensorflow:Can save best model only with val_acc available, skipping.\n"
     ]
    },
    {
     "name": "stderr",
     "output_type": "stream",
     "text": [
      "WARNING:tensorflow:Can save best model only with val_acc available, skipping.\n"
     ]
    },
    {
     "name": "stdout",
     "output_type": "stream",
     "text": [
      "225/225 [==============================] - 332s 1s/step - loss: 0.9599 - accuracy: 0.6594 - val_loss: 1.2759 - val_accuracy: 0.5516 - lr: 0.0100\n",
      "Epoch 10/38\n",
      "225/225 [==============================] - ETA: 0s - loss: 0.9021 - accuracy: 0.6825WARNING:tensorflow:Can save best model only with val_acc available, skipping.\n"
     ]
    },
    {
     "name": "stderr",
     "output_type": "stream",
     "text": [
      "WARNING:tensorflow:Can save best model only with val_acc available, skipping.\n"
     ]
    },
    {
     "name": "stdout",
     "output_type": "stream",
     "text": [
      "225/225 [==============================] - 327s 1s/step - loss: 0.9021 - accuracy: 0.6825 - val_loss: 1.1761 - val_accuracy: 0.5786 - lr: 0.0100\n",
      "Epoch 11/38\n",
      "225/225 [==============================] - ETA: 0s - loss: 0.8627 - accuracy: 0.7002WARNING:tensorflow:Can save best model only with val_acc available, skipping.\n"
     ]
    },
    {
     "name": "stderr",
     "output_type": "stream",
     "text": [
      "WARNING:tensorflow:Can save best model only with val_acc available, skipping.\n"
     ]
    },
    {
     "name": "stdout",
     "output_type": "stream",
     "text": [
      "225/225 [==============================] - 332s 1s/step - loss: 0.8627 - accuracy: 0.7002 - val_loss: 1.1471 - val_accuracy: 0.5884 - lr: 0.0100\n",
      "Epoch 12/38\n",
      "225/225 [==============================] - ETA: 0s - loss: 0.8074 - accuracy: 0.7229WARNING:tensorflow:Can save best model only with val_acc available, skipping.\n"
     ]
    },
    {
     "name": "stderr",
     "output_type": "stream",
     "text": [
      "WARNING:tensorflow:Can save best model only with val_acc available, skipping.\n"
     ]
    },
    {
     "name": "stdout",
     "output_type": "stream",
     "text": [
      "225/225 [==============================] - 330s 1s/step - loss: 0.8074 - accuracy: 0.7229 - val_loss: 1.2356 - val_accuracy: 0.5624 - lr: 0.0100\n",
      "Epoch 13/38\n",
      "225/225 [==============================] - ETA: 0s - loss: 0.7773 - accuracy: 0.7327WARNING:tensorflow:Can save best model only with val_acc available, skipping.\n"
     ]
    },
    {
     "name": "stderr",
     "output_type": "stream",
     "text": [
      "WARNING:tensorflow:Can save best model only with val_acc available, skipping.\n"
     ]
    },
    {
     "name": "stdout",
     "output_type": "stream",
     "text": [
      "225/225 [==============================] - 334s 1s/step - loss: 0.7773 - accuracy: 0.7327 - val_loss: 1.1495 - val_accuracy: 0.6001 - lr: 0.0100\n",
      "Epoch 14/38\n",
      "225/225 [==============================] - ETA: 0s - loss: 0.7254 - accuracy: 0.7534WARNING:tensorflow:Can save best model only with val_acc available, skipping.\n"
     ]
    },
    {
     "name": "stderr",
     "output_type": "stream",
     "text": [
      "WARNING:tensorflow:Can save best model only with val_acc available, skipping.\n"
     ]
    },
    {
     "name": "stdout",
     "output_type": "stream",
     "text": [
      "225/225 [==============================] - 325s 1s/step - loss: 0.7254 - accuracy: 0.7534 - val_loss: 1.1099 - val_accuracy: 0.6128 - lr: 0.0100\n",
      "Epoch 15/38\n",
      "225/225 [==============================] - ETA: 0s - loss: 0.6877 - accuracy: 0.7672WARNING:tensorflow:Can save best model only with val_acc available, skipping.\n"
     ]
    },
    {
     "name": "stderr",
     "output_type": "stream",
     "text": [
      "WARNING:tensorflow:Can save best model only with val_acc available, skipping.\n"
     ]
    },
    {
     "name": "stdout",
     "output_type": "stream",
     "text": [
      "225/225 [==============================] - 326s 1s/step - loss: 0.6877 - accuracy: 0.7672 - val_loss: 1.2510 - val_accuracy: 0.5893 - lr: 0.0100\n",
      "Epoch 16/38\n",
      "225/225 [==============================] - ETA: 0s - loss: 0.6535 - accuracy: 0.7785WARNING:tensorflow:Can save best model only with val_acc available, skipping.\n"
     ]
    },
    {
     "name": "stderr",
     "output_type": "stream",
     "text": [
      "WARNING:tensorflow:Can save best model only with val_acc available, skipping.\n"
     ]
    },
    {
     "name": "stdout",
     "output_type": "stream",
     "text": [
      "225/225 [==============================] - 334s 1s/step - loss: 0.6535 - accuracy: 0.7785 - val_loss: 1.1444 - val_accuracy: 0.6080 - lr: 0.0100\n",
      "Epoch 17/38\n",
      "225/225 [==============================] - ETA: 0s - loss: 0.6256 - accuracy: 0.7904Restoring model weights from the end of the best epoch: 14.\n",
      "WARNING:tensorflow:Can save best model only with val_acc available, skipping.\n"
     ]
    },
    {
     "name": "stderr",
     "output_type": "stream",
     "text": [
      "WARNING:tensorflow:Can save best model only with val_acc available, skipping.\n"
     ]
    },
    {
     "name": "stdout",
     "output_type": "stream",
     "text": [
      "\n",
      "Epoch 17: ReduceLROnPlateau reducing learning rate to 0.0019999999552965165.\n",
      "225/225 [==============================] - 319s 1s/step - loss: 0.6256 - accuracy: 0.7904 - val_loss: 1.1951 - val_accuracy: 0.6045 - lr: 0.0100\n",
      "Epoch 17: early stopping\n"
     ]
    }
   ],
   "source": [
    "history = model.fit_generator(generator=train_set,\n",
    "                                steps_per_epoch=train_set.n//train_set.batch_size,\n",
    "                                epochs=70,\n",
    "                                validation_data = test_set,\n",
    "                                validation_steps = test_set.n//test_set.batch_size,\n",
    "                                callbacks=callbacks_list\n",
    "                                )"
   ]
  },
  {
   "cell_type": "code",
   "execution_count": 26,
   "id": "5beeddba",
   "metadata": {},
   "outputs": [],
   "source": [
    "model.save_weights('face_emotion_model.h5')"
   ]
  },
  {
   "cell_type": "code",
   "execution_count": 27,
   "id": "244eb478",
   "metadata": {},
   "outputs": [
    {
     "data": {
      "image/png": "[encoded data removed]",
      "text/plain": [
       "<Figure size 1440x720 with 2 Axes>"
      ]
     },
     "metadata": {},
     "output_type": "display_data"
    }
   ],
   "source": [
    "plt.style.use('seaborn')\n",
    "\n",
    "plt.figure(figsize=(20,10))\n",
    "plt.subplot(1, 2, 1)\n",
    "plt.plot(history.history['loss'], label='Training Loss')\n",
    "plt.plot(history.history['val_loss'], label='Validation Loss')\n",
    "plt.suptitle('Optimizer : Adam', fontsize=14)\n",
    "plt.xlabel('Epoch', fontsize=12)\n",
    "plt.ylabel('Loss', fontsize=12)\n",
    "plt.legend(loc='upper right')\n",
    "\n",
    "plt.subplot(1, 2, 2)\n",
    "plt.plot(history.history['accuracy'], label='Training Accuracy')\n",
    "plt.plot(history.history['val_accuracy'], label='Validation Accuracy')\n",
    "plt.xlabel('Epoch', fontsize=12)\n",
    "plt.ylabel('Accuracy', fontsize=12)\n",
    "plt.legend(loc='lower right')\n",
    "plt.show()\n"
   ]
  },
  {
   "cell_type": "code",
   "execution_count": null,
   "id": "eebc2dbe",
   "metadata": {},
   "outputs": [],
   "source": []
  }
 ],
 "metadata": {
  "kernelspec": {
   "display_name": "Python 3 (ipykernel)",
   "language": "python",
   "name": "python3"
  },
  "language_info": {
   "codemirror_mode": {
    "name": "ipython",
    "version": 3
   },
   "file_extension": ".py",
   "mimetype": "text/x-python",
   "name": "python",
   "nbconvert_exporter": "python",
   "pygments_lexer": "ipython3",
   "version": "3.10.5"
  }
 },
 "nbformat": 4,
 "nbformat_minor": 5
}
